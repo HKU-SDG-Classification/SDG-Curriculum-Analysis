{
 "cells": [
  {
   "cell_type": "markdown",
   "id": "31e6c114",
   "metadata": {},
   "source": [
    "![jupyter](./pic1.jpg)"
   ]
  },
  {
   "cell_type": "markdown",
   "id": "5ce83ca8",
   "metadata": {},
   "source": [
    "![jupyter](./pic2.jpg)"
   ]
  },
  {
   "cell_type": "code",
   "execution_count": 1,
   "id": "fc0185e5",
   "metadata": {},
   "outputs": [
    {
     "data": {
      "text/html": [
       "<div>\n",
       "<style scoped>\n",
       "    .dataframe tbody tr th:only-of-type {\n",
       "        vertical-align: middle;\n",
       "    }\n",
       "\n",
       "    .dataframe tbody tr th {\n",
       "        vertical-align: top;\n",
       "    }\n",
       "\n",
       "    .dataframe thead th {\n",
       "        text-align: right;\n",
       "    }\n",
       "</style>\n",
       "<table border=\"1\" class=\"dataframe\">\n",
       "  <thead>\n",
       "    <tr style=\"text-align: right;\">\n",
       "      <th></th>\n",
       "      <th>sdg</th>\n",
       "      <th>count</th>\n",
       "    </tr>\n",
       "  </thead>\n",
       "  <tbody>\n",
       "    <tr>\n",
       "      <th>0</th>\n",
       "      <td>1</td>\n",
       "      <td>1241</td>\n",
       "    </tr>\n",
       "    <tr>\n",
       "      <th>1</th>\n",
       "      <td>2</td>\n",
       "      <td>830</td>\n",
       "    </tr>\n",
       "    <tr>\n",
       "      <th>2</th>\n",
       "      <td>3</td>\n",
       "      <td>1849</td>\n",
       "    </tr>\n",
       "    <tr>\n",
       "      <th>3</th>\n",
       "      <td>4</td>\n",
       "      <td>2363</td>\n",
       "    </tr>\n",
       "    <tr>\n",
       "      <th>4</th>\n",
       "      <td>5</td>\n",
       "      <td>2433</td>\n",
       "    </tr>\n",
       "    <tr>\n",
       "      <th>5</th>\n",
       "      <td>6</td>\n",
       "      <td>1336</td>\n",
       "    </tr>\n",
       "    <tr>\n",
       "      <th>6</th>\n",
       "      <td>7</td>\n",
       "      <td>1912</td>\n",
       "    </tr>\n",
       "    <tr>\n",
       "      <th>7</th>\n",
       "      <td>8</td>\n",
       "      <td>902</td>\n",
       "    </tr>\n",
       "    <tr>\n",
       "      <th>8</th>\n",
       "      <td>9</td>\n",
       "      <td>701</td>\n",
       "    </tr>\n",
       "    <tr>\n",
       "      <th>9</th>\n",
       "      <td>10</td>\n",
       "      <td>476</td>\n",
       "    </tr>\n",
       "    <tr>\n",
       "      <th>10</th>\n",
       "      <td>11</td>\n",
       "      <td>1293</td>\n",
       "    </tr>\n",
       "    <tr>\n",
       "      <th>11</th>\n",
       "      <td>12</td>\n",
       "      <td>241</td>\n",
       "    </tr>\n",
       "    <tr>\n",
       "      <th>12</th>\n",
       "      <td>13</td>\n",
       "      <td>1114</td>\n",
       "    </tr>\n",
       "    <tr>\n",
       "      <th>13</th>\n",
       "      <td>14</td>\n",
       "      <td>763</td>\n",
       "    </tr>\n",
       "    <tr>\n",
       "      <th>14</th>\n",
       "      <td>15</td>\n",
       "      <td>555</td>\n",
       "    </tr>\n",
       "  </tbody>\n",
       "</table>\n",
       "</div>"
      ],
      "text/plain": [
       "    sdg  count\n",
       "0     1   1241\n",
       "1     2    830\n",
       "2     3   1849\n",
       "3     4   2363\n",
       "4     5   2433\n",
       "5     6   1336\n",
       "6     7   1912\n",
       "7     8    902\n",
       "8     9    701\n",
       "9    10    476\n",
       "10   11   1293\n",
       "11   12    241\n",
       "12   13   1114\n",
       "13   14    763\n",
       "14   15    555"
      ]
     },
     "execution_count": 1,
     "metadata": {},
     "output_type": "execute_result"
    }
   ],
   "source": [
    "import pandas as pd\n",
    "df_osdg = pd.read_excel('E:\\PostGraduate\\OSDG\\osdg-new.xlsx')\n",
    "df_osdg = df_osdg.query('agreement >= .6 and labels_positive > labels_negative').copy()\n",
    "df_osdg.reset_index(inplace = True)\n",
    "df_osdg.groupby('sdg', as_index = False).agg(count = ('text_id', 'count'))"
   ]
  },
  {
   "cell_type": "code",
   "execution_count": 2,
   "id": "c450d52d",
   "metadata": {},
   "outputs": [],
   "source": [
    "index=[] #store indexes of different classes of sdgs\n",
    "sample_numbers=[] #store the total numbers of every class of sdg\n",
    "index.append([])\n",
    "sample_numbers.append(0)\n",
    "for i in range(1,16):\n",
    "    cur_index=df_osdg[df_osdg[\"sdg\"]==i]._stat_axis.values.tolist() \n",
    "    index.append(cur_index)\n",
    "    sample_numbers.append(len(cur_index))\n",
    "index[5]\n",
    "sample_numbers[5]\n",
    "total_sample_nums=len(df_osdg) "
   ]
  },
  {
   "cell_type": "code",
   "execution_count": 3,
   "id": "80c82374",
   "metadata": {},
   "outputs": [
    {
     "name": "stdout",
     "output_type": "stream",
     "text": [
      "[['4', '5'], ['1', '2', '3']]\n"
     ]
    }
   ],
   "source": [
    "#give a list, randomly divide into n groups\n",
    "from random import shuffle\n",
    "def random_grouping(glist,group_nums):\n",
    "    shuffle(glist) \n",
    "    m = int(len(glist)//group_nums) #average num of samples in each group\n",
    "    list2 = []\n",
    "    for i in range(0, len(glist), m):\n",
    "        if (len(glist[i:i+m])<m): #add the left samples into the last group\n",
    "            list2[-1].extend(glist[i:i+m])\n",
    "        else: #create a list to load m samples\n",
    "            list2.append(glist[i:i+m])\n",
    "    return list2\n",
    "    \n",
    "#demo\n",
    "glist=[\"1\", \"2\", \"3\", \"4\",\"5\"]\n",
    "print(random_grouping(glist,2))"
   ]
  },
  {
   "cell_type": "code",
   "execution_count": 4,
   "id": "8dbb7dc8",
   "metadata": {},
   "outputs": [],
   "source": [
    "#input a class of sdg that you want to identify,\n",
    "#out put how many learners are going to be trained,and different negative samples used in each training\n",
    "def negative_sampling(sdg):\n",
    "    learner_nums=(total_sample_nums-sample_numbers[sdg])//sample_numbers[sdg]\n",
    "    negative_groups=[] #randomly divide each negative class of data into groups, \n",
    "                       #so that we can use different batch of data when training.\n",
    "    for i in range (1,16):\n",
    "        if i!=sdg: #only group negative dataset\n",
    "            cur_group=random_grouping(index[i],learner_nums)\n",
    "            negative_groups.append(cur_group)\n",
    "    negative_id=[] #decide in each training, what negative data are we going to use\n",
    "    for i in range(learner_nums):\n",
    "        cur_negative_id=[]\n",
    "        for j in negative_groups:\n",
    "            cur_negative_id.extend(j[i])\n",
    "        negative_id.append(cur_negative_id) \n",
    "    return negative_id,learner_nums"
   ]
  },
  {
   "cell_type": "code",
   "execution_count": 5,
   "id": "f876ad27",
   "metadata": {},
   "outputs": [],
   "source": [
    "#this time we save the dataset to be used\n",
    "import os\n",
    "from tqdm import tqdm\n",
    "def data_split(sdg): #which sdg do you want to identify\n",
    "    df_positive=df_osdg[df_osdg[\"sdg\"]==sdg]\n",
    "    negative_id,learner_nums=negative_sampling(sdg)\n",
    "    data=[]\n",
    "    for i in range(learner_nums):\n",
    "        df_negative=df_osdg.loc[negative_id[i]]\n",
    "        cur_df=pd.concat([df_positive,df_negative])\n",
    "        data.append(cur_df)\n",
    "    #save dataset\n",
    "    folder=\"sdg\"+str(sdg)\n",
    "    if not (os.path.exists(folder)):\n",
    "        os.makedirs(folder) \n",
    "    for i in tqdm(range(len(data))):\n",
    "        data[i].to_excel(folder+\"\\\\learner-\"+str(i+1)+\".xlsx\")"
   ]
  },
  {
   "cell_type": "code",
   "execution_count": 6,
   "id": "74ee5561",
   "metadata": {},
   "outputs": [],
   "source": [
    "#useage:\n",
    "#for i in range(1,16):\n",
    "#    data_split(i)"
   ]
  }
 ],
 "metadata": {
  "kernelspec": {
   "display_name": "Python 3 (ipykernel)",
   "language": "python",
   "name": "python3"
  },
  "language_info": {
   "codemirror_mode": {
    "name": "ipython",
    "version": 3
   },
   "file_extension": ".py",
   "mimetype": "text/x-python",
   "name": "python",
   "nbconvert_exporter": "python",
   "pygments_lexer": "ipython3",
   "version": "3.9.12"
  }
 },
 "nbformat": 4,
 "nbformat_minor": 5
}
