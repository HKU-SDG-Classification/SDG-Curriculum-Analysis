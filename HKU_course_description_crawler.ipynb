{
 "cells": [
  {
   "cell_type": "code",
   "execution_count": 1,
   "id": "f3687628",
   "metadata": {},
   "outputs": [],
   "source": [
    "#Thanks for Meilin's help\n",
    "import pandas as pd\n",
    "df=pd.read_excel(r\"E:\\PostGraduate\\OSDG\\SDG (expert tagging).xlsx\",\"Expert results\")\n",
    "courses=df[\"Unnamed: 0\"].tolist() #get course codes"
   ]
  },
  {
   "cell_type": "code",
   "execution_count": 2,
   "id": "c148c930",
   "metadata": {},
   "outputs": [
    {
     "name": "stderr",
     "output_type": "stream",
     "text": [
      " 78%|██████████████████████████████████████████████████████████████▋                 | 130/166 [01:22<00:18,  1.98it/s]"
     ]
    },
    {
     "name": "stdout",
     "output_type": "stream",
     "text": [
      "CCGL9065\n"
     ]
    },
    {
     "name": "stderr",
     "output_type": "stream",
     "text": [
      "\r",
      " 79%|███████████████████████████████████████████████████████████████▏                | 131/166 [01:22<00:16,  2.09it/s]"
     ]
    },
    {
     "name": "stdout",
     "output_type": "stream",
     "text": [
      "CCGL9066\n"
     ]
    },
    {
     "name": "stderr",
     "output_type": "stream",
     "text": [
      "100%|████████████████████████████████████████████████████████████████████████████████| 166/166 [01:43<00:00,  1.61it/s]\n"
     ]
    }
   ],
   "source": [
    "#collect the description and names of courses\n",
    "from urllib.request import urlopen\n",
    "from bs4 import BeautifulSoup\n",
    "from tqdm import tqdm\n",
    "description=[] #course description\n",
    "titles=[] #course titles\n",
    "for i in tqdm(courses):\n",
    "    course=i.lower()\n",
    "    html = urlopen('https://commoncore.hku.hk/'+course+'/')\n",
    "    bs = BeautifulSoup(html.read(), 'html.parser')\n",
    "    h4=bs.find(\"h4\", { \"id\" : \"des\" })\n",
    "    title=bs.h1\n",
    "    titles.append(title.contents[0][11:])\n",
    "    try:\n",
    "        description.append(h4.next_sibling.next_sibling.contents[0])\n",
    "    except: #two courses need manual processing\n",
    "        description.append(\"\")\n",
    "        print(i)"
   ]
  },
  {
   "cell_type": "code",
   "execution_count": 3,
   "id": "4727c6c9",
   "metadata": {},
   "outputs": [],
   "source": [
    "df[\"Course Title\"]=titles\n",
    "df[\"Course Description\"]=description\n",
    "df.to_excel(\"E:\\PostGraduate\\OSDG\\HKUSDG.xlsx\")"
   ]
  }
 ],
 "metadata": {
  "kernelspec": {
   "display_name": "Python 3 (ipykernel)",
   "language": "python",
   "name": "python3"
  },
  "language_info": {
   "codemirror_mode": {
    "name": "ipython",
    "version": 3
   },
   "file_extension": ".py",
   "mimetype": "text/x-python",
   "name": "python",
   "nbconvert_exporter": "python",
   "pygments_lexer": "ipython3",
   "version": "3.9.12"
  }
 },
 "nbformat": 4,
 "nbformat_minor": 5
}
